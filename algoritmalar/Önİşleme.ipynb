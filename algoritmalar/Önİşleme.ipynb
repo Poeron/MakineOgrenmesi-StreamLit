{
 "cells": [
  {
   "cell_type": "code",
   "execution_count": 1,
   "id": "cfcedd8d",
   "metadata": {},
   "outputs": [],
   "source": [
    "import pandas as pd\n",
    "import numpy as np"
   ]
  },
  {
   "cell_type": "code",
   "execution_count": 3,
   "id": "3d4da0d8",
   "metadata": {},
   "outputs": [],
   "source": [
    "data = pd.read_excel('../veritoplama/output.xlsx')"
   ]
  },
  {
   "cell_type": "code",
   "execution_count": 4,
   "id": "bd336f7b",
   "metadata": {},
   "outputs": [
    {
     "name": "stdout",
     "output_type": "stream",
     "text": [
      "<class 'pandas.core.frame.DataFrame'>\n",
      "RangeIndex: 1032 entries, 0 to 1031\n",
      "Data columns (total 6 columns):\n",
      " #   Column         Non-Null Count  Dtype  \n",
      "---  ------         --------------  -----  \n",
      " 0   Konum          1032 non-null   object \n",
      " 1   Oda Sayısı     1032 non-null   object \n",
      " 2   m²             1032 non-null   int64  \n",
      " 3   Bina Yaşı      1032 non-null   int64  \n",
      " 4   Bulunduğu Kat  1015 non-null   float64\n",
      " 5   Fiyat          1032 non-null   int64  \n",
      "dtypes: float64(1), int64(3), object(2)\n",
      "memory usage: 48.5+ KB\n"
     ]
    }
   ],
   "source": [
    "data.info()"
   ]
  },
  {
   "cell_type": "code",
   "execution_count": 5,
   "id": "4352cf82",
   "metadata": {
    "scrolled": false
   },
   "outputs": [
    {
     "data": {
      "text/html": [
       "<div>\n",
       "<style scoped>\n",
       "    .dataframe tbody tr th:only-of-type {\n",
       "        vertical-align: middle;\n",
       "    }\n",
       "\n",
       "    .dataframe tbody tr th {\n",
       "        vertical-align: top;\n",
       "    }\n",
       "\n",
       "    .dataframe thead th {\n",
       "        text-align: right;\n",
       "    }\n",
       "</style>\n",
       "<table border=\"1\" class=\"dataframe\">\n",
       "  <thead>\n",
       "    <tr style=\"text-align: right;\">\n",
       "      <th></th>\n",
       "      <th>Konum</th>\n",
       "      <th>Oda Sayısı</th>\n",
       "      <th>m²</th>\n",
       "      <th>Bina Yaşı</th>\n",
       "      <th>Bulunduğu Kat</th>\n",
       "      <th>Fiyat</th>\n",
       "    </tr>\n",
       "  </thead>\n",
       "  <tbody>\n",
       "    <tr>\n",
       "      <th>0</th>\n",
       "      <td>Çankaya</td>\n",
       "      <td>3 + 1</td>\n",
       "      <td>173</td>\n",
       "      <td>0</td>\n",
       "      <td>6.0</td>\n",
       "      <td>40000</td>\n",
       "    </tr>\n",
       "    <tr>\n",
       "      <th>1</th>\n",
       "      <td>Çankaya</td>\n",
       "      <td>3 + 1</td>\n",
       "      <td>183</td>\n",
       "      <td>0</td>\n",
       "      <td>21.0</td>\n",
       "      <td>38000</td>\n",
       "    </tr>\n",
       "    <tr>\n",
       "      <th>2</th>\n",
       "      <td>Gölbaşı</td>\n",
       "      <td>1 + 1</td>\n",
       "      <td>45</td>\n",
       "      <td>0</td>\n",
       "      <td>1.0</td>\n",
       "      <td>10750</td>\n",
       "    </tr>\n",
       "    <tr>\n",
       "      <th>3</th>\n",
       "      <td>Yenimahalle</td>\n",
       "      <td>3 + 1</td>\n",
       "      <td>150</td>\n",
       "      <td>16</td>\n",
       "      <td>2.0</td>\n",
       "      <td>16500</td>\n",
       "    </tr>\n",
       "    <tr>\n",
       "      <th>4</th>\n",
       "      <td>Gölbaşı</td>\n",
       "      <td>2 + 1</td>\n",
       "      <td>65</td>\n",
       "      <td>1</td>\n",
       "      <td>1.0</td>\n",
       "      <td>14500</td>\n",
       "    </tr>\n",
       "  </tbody>\n",
       "</table>\n",
       "</div>"
      ],
      "text/plain": [
       "         Konum Oda Sayısı   m²  Bina Yaşı  Bulunduğu Kat  Fiyat\n",
       "0      Çankaya      3 + 1  173          0            6.0  40000\n",
       "1      Çankaya      3 + 1  183          0           21.0  38000\n",
       "2      Gölbaşı      1 + 1   45          0            1.0  10750\n",
       "3  Yenimahalle      3 + 1  150         16            2.0  16500\n",
       "4      Gölbaşı      2 + 1   65          1            1.0  14500"
      ]
     },
     "execution_count": 5,
     "metadata": {},
     "output_type": "execute_result"
    }
   ],
   "source": [
    "data.head()"
   ]
  },
  {
   "cell_type": "code",
   "execution_count": 6,
   "id": "85bd616e",
   "metadata": {},
   "outputs": [],
   "source": [
    "data = data.dropna(subset=['Bulunduğu Kat'])"
   ]
  },
  {
   "cell_type": "code",
   "execution_count": 7,
   "id": "d52dfa77",
   "metadata": {},
   "outputs": [
    {
     "name": "stdout",
     "output_type": "stream",
     "text": [
      "<class 'pandas.core.frame.DataFrame'>\n",
      "Index: 1015 entries, 0 to 1031\n",
      "Data columns (total 6 columns):\n",
      " #   Column         Non-Null Count  Dtype  \n",
      "---  ------         --------------  -----  \n",
      " 0   Konum          1015 non-null   object \n",
      " 1   Oda Sayısı     1015 non-null   object \n",
      " 2   m²             1015 non-null   int64  \n",
      " 3   Bina Yaşı      1015 non-null   int64  \n",
      " 4   Bulunduğu Kat  1015 non-null   float64\n",
      " 5   Fiyat          1015 non-null   int64  \n",
      "dtypes: float64(1), int64(3), object(2)\n",
      "memory usage: 55.5+ KB\n"
     ]
    }
   ],
   "source": [
    "data.info()"
   ]
  },
  {
   "cell_type": "code",
   "execution_count": 8,
   "id": "81e98d72",
   "metadata": {},
   "outputs": [],
   "source": [
    "data['Bulunduğu Kat'] = data['Bulunduğu Kat'].astype(int)"
   ]
  },
  {
   "cell_type": "code",
   "execution_count": 9,
   "id": "1fd55b70",
   "metadata": {},
   "outputs": [],
   "source": [
    "from sklearn.preprocessing import LabelEncoder\n",
    "\n",
    "# DataFrame'inizin adını ve 'Oda Sayısı' sütununun adını uygun şekilde değiştirin\n",
    "# Örneğin, df olarak ve 'Oda Sayısı' sütununun adı 'Oda Sayısı' olarak varsayalım.\n",
    "\n",
    "label_encoder = LabelEncoder()\n",
    "data['Oda Sayısı'] = label_encoder.fit_transform(data['Oda Sayısı'])"
   ]
  },
  {
   "cell_type": "code",
   "execution_count": 10,
   "id": "d42d06f0",
   "metadata": {},
   "outputs": [
    {
     "name": "stdout",
     "output_type": "stream",
     "text": [
      "<class 'pandas.core.frame.DataFrame'>\n",
      "Index: 1015 entries, 0 to 1031\n",
      "Data columns (total 6 columns):\n",
      " #   Column         Non-Null Count  Dtype \n",
      "---  ------         --------------  ----- \n",
      " 0   Konum          1015 non-null   object\n",
      " 1   Oda Sayısı     1015 non-null   int32 \n",
      " 2   m²             1015 non-null   int64 \n",
      " 3   Bina Yaşı      1015 non-null   int64 \n",
      " 4   Bulunduğu Kat  1015 non-null   int32 \n",
      " 5   Fiyat          1015 non-null   int64 \n",
      "dtypes: int32(2), int64(3), object(1)\n",
      "memory usage: 47.6+ KB\n"
     ]
    }
   ],
   "source": [
    "data.info()"
   ]
  },
  {
   "cell_type": "code",
   "execution_count": 11,
   "id": "f88c8f50",
   "metadata": {},
   "outputs": [
    {
     "data": {
      "text/html": [
       "<div>\n",
       "<style scoped>\n",
       "    .dataframe tbody tr th:only-of-type {\n",
       "        vertical-align: middle;\n",
       "    }\n",
       "\n",
       "    .dataframe tbody tr th {\n",
       "        vertical-align: top;\n",
       "    }\n",
       "\n",
       "    .dataframe thead th {\n",
       "        text-align: right;\n",
       "    }\n",
       "</style>\n",
       "<table border=\"1\" class=\"dataframe\">\n",
       "  <thead>\n",
       "    <tr style=\"text-align: right;\">\n",
       "      <th></th>\n",
       "      <th>Konum</th>\n",
       "      <th>Oda Sayısı</th>\n",
       "      <th>m²</th>\n",
       "      <th>Bina Yaşı</th>\n",
       "      <th>Bulunduğu Kat</th>\n",
       "      <th>Fiyat</th>\n",
       "    </tr>\n",
       "  </thead>\n",
       "  <tbody>\n",
       "    <tr>\n",
       "      <th>0</th>\n",
       "      <td>Çankaya</td>\n",
       "      <td>4</td>\n",
       "      <td>173</td>\n",
       "      <td>0</td>\n",
       "      <td>6</td>\n",
       "      <td>40000</td>\n",
       "    </tr>\n",
       "    <tr>\n",
       "      <th>1</th>\n",
       "      <td>Çankaya</td>\n",
       "      <td>4</td>\n",
       "      <td>183</td>\n",
       "      <td>0</td>\n",
       "      <td>21</td>\n",
       "      <td>38000</td>\n",
       "    </tr>\n",
       "    <tr>\n",
       "      <th>2</th>\n",
       "      <td>Gölbaşı</td>\n",
       "      <td>1</td>\n",
       "      <td>45</td>\n",
       "      <td>0</td>\n",
       "      <td>1</td>\n",
       "      <td>10750</td>\n",
       "    </tr>\n",
       "    <tr>\n",
       "      <th>3</th>\n",
       "      <td>Yenimahalle</td>\n",
       "      <td>4</td>\n",
       "      <td>150</td>\n",
       "      <td>16</td>\n",
       "      <td>2</td>\n",
       "      <td>16500</td>\n",
       "    </tr>\n",
       "    <tr>\n",
       "      <th>4</th>\n",
       "      <td>Gölbaşı</td>\n",
       "      <td>3</td>\n",
       "      <td>65</td>\n",
       "      <td>1</td>\n",
       "      <td>1</td>\n",
       "      <td>14500</td>\n",
       "    </tr>\n",
       "  </tbody>\n",
       "</table>\n",
       "</div>"
      ],
      "text/plain": [
       "         Konum  Oda Sayısı   m²  Bina Yaşı  Bulunduğu Kat  Fiyat\n",
       "0      Çankaya           4  173          0              6  40000\n",
       "1      Çankaya           4  183          0             21  38000\n",
       "2      Gölbaşı           1   45          0              1  10750\n",
       "3  Yenimahalle           4  150         16              2  16500\n",
       "4      Gölbaşı           3   65          1              1  14500"
      ]
     },
     "execution_count": 11,
     "metadata": {},
     "output_type": "execute_result"
    }
   ],
   "source": [
    "data.head()"
   ]
  },
  {
   "cell_type": "code",
   "execution_count": 12,
   "id": "efcc719a",
   "metadata": {},
   "outputs": [
    {
     "data": {
      "text/html": [
       "<div>\n",
       "<style scoped>\n",
       "    .dataframe tbody tr th:only-of-type {\n",
       "        vertical-align: middle;\n",
       "    }\n",
       "\n",
       "    .dataframe tbody tr th {\n",
       "        vertical-align: top;\n",
       "    }\n",
       "\n",
       "    .dataframe thead th {\n",
       "        text-align: right;\n",
       "    }\n",
       "</style>\n",
       "<table border=\"1\" class=\"dataframe\">\n",
       "  <thead>\n",
       "    <tr style=\"text-align: right;\">\n",
       "      <th></th>\n",
       "      <th>Konum</th>\n",
       "      <th>Oda Sayısı</th>\n",
       "      <th>m²</th>\n",
       "      <th>Bina Yaşı</th>\n",
       "      <th>Bulunduğu Kat</th>\n",
       "      <th>Fiyat</th>\n",
       "    </tr>\n",
       "  </thead>\n",
       "  <tbody>\n",
       "    <tr>\n",
       "      <th>1027</th>\n",
       "      <td>Çankaya</td>\n",
       "      <td>4</td>\n",
       "      <td>130</td>\n",
       "      <td>25</td>\n",
       "      <td>5</td>\n",
       "      <td>19000</td>\n",
       "    </tr>\n",
       "    <tr>\n",
       "      <th>1028</th>\n",
       "      <td>Çankaya</td>\n",
       "      <td>4</td>\n",
       "      <td>125</td>\n",
       "      <td>20</td>\n",
       "      <td>1</td>\n",
       "      <td>13000</td>\n",
       "    </tr>\n",
       "    <tr>\n",
       "      <th>1029</th>\n",
       "      <td>Yenimahalle</td>\n",
       "      <td>7</td>\n",
       "      <td>195</td>\n",
       "      <td>6</td>\n",
       "      <td>2</td>\n",
       "      <td>25000</td>\n",
       "    </tr>\n",
       "    <tr>\n",
       "      <th>1030</th>\n",
       "      <td>Mamak</td>\n",
       "      <td>4</td>\n",
       "      <td>110</td>\n",
       "      <td>18</td>\n",
       "      <td>1</td>\n",
       "      <td>9500</td>\n",
       "    </tr>\n",
       "    <tr>\n",
       "      <th>1031</th>\n",
       "      <td>Yenimahalle</td>\n",
       "      <td>4</td>\n",
       "      <td>120</td>\n",
       "      <td>21</td>\n",
       "      <td>3</td>\n",
       "      <td>12000</td>\n",
       "    </tr>\n",
       "  </tbody>\n",
       "</table>\n",
       "</div>"
      ],
      "text/plain": [
       "            Konum  Oda Sayısı   m²  Bina Yaşı  Bulunduğu Kat  Fiyat\n",
       "1027      Çankaya           4  130         25              5  19000\n",
       "1028      Çankaya           4  125         20              1  13000\n",
       "1029  Yenimahalle           7  195          6              2  25000\n",
       "1030        Mamak           4  110         18              1   9500\n",
       "1031  Yenimahalle           4  120         21              3  12000"
      ]
     },
     "execution_count": 12,
     "metadata": {},
     "output_type": "execute_result"
    }
   ],
   "source": [
    "data.tail()"
   ]
  },
  {
   "cell_type": "code",
   "execution_count": 13,
   "id": "4ca73ac2",
   "metadata": {},
   "outputs": [],
   "source": [
    "# 'Konum' sütununu one-hot encode et\n",
    "data = pd.get_dummies(data, columns=['Konum'], prefix='Konum')"
   ]
  },
  {
   "cell_type": "code",
   "execution_count": 14,
   "id": "410dace5",
   "metadata": {},
   "outputs": [
    {
     "name": "stdout",
     "output_type": "stream",
     "text": [
      "<class 'pandas.core.frame.DataFrame'>\n",
      "Index: 1015 entries, 0 to 1031\n",
      "Data columns (total 18 columns):\n",
      " #   Column               Non-Null Count  Dtype\n",
      "---  ------               --------------  -----\n",
      " 0   Oda Sayısı           1015 non-null   int32\n",
      " 1   m²                   1015 non-null   int64\n",
      " 2   Bina Yaşı            1015 non-null   int64\n",
      " 3   Bulunduğu Kat        1015 non-null   int32\n",
      " 4   Fiyat                1015 non-null   int64\n",
      " 5   Konum_Altındağ       1015 non-null   bool \n",
      " 6   Konum_Elmadağ        1015 non-null   bool \n",
      " 7   Konum_Etimesgut      1015 non-null   bool \n",
      " 8   Konum_Gölbaşı        1015 non-null   bool \n",
      " 9   Konum_Kahramankazan  1015 non-null   bool \n",
      " 10  Konum_Keçiören       1015 non-null   bool \n",
      " 11  Konum_Mamak          1015 non-null   bool \n",
      " 12  Konum_Polatlı        1015 non-null   bool \n",
      " 13  Konum_Pursaklar      1015 non-null   bool \n",
      " 14  Konum_Sincan         1015 non-null   bool \n",
      " 15  Konum_Yenimahalle    1015 non-null   bool \n",
      " 16  Konum_Çankaya        1015 non-null   bool \n",
      " 17  Konum_Çubuk          1015 non-null   bool \n",
      "dtypes: bool(13), int32(2), int64(3)\n",
      "memory usage: 52.5 KB\n"
     ]
    }
   ],
   "source": [
    "data.info()"
   ]
  },
  {
   "cell_type": "code",
   "execution_count": 17,
   "id": "46dcb47d",
   "metadata": {
    "scrolled": false
   },
   "outputs": [
    {
     "data": {
      "text/html": [
       "<div>\n",
       "<style scoped>\n",
       "    .dataframe tbody tr th:only-of-type {\n",
       "        vertical-align: middle;\n",
       "    }\n",
       "\n",
       "    .dataframe tbody tr th {\n",
       "        vertical-align: top;\n",
       "    }\n",
       "\n",
       "    .dataframe thead th {\n",
       "        text-align: right;\n",
       "    }\n",
       "</style>\n",
       "<table border=\"1\" class=\"dataframe\">\n",
       "  <thead>\n",
       "    <tr style=\"text-align: right;\">\n",
       "      <th></th>\n",
       "      <th>Oda Sayısı</th>\n",
       "      <th>m²</th>\n",
       "      <th>Bina Yaşı</th>\n",
       "      <th>Bulunduğu Kat</th>\n",
       "      <th>Fiyat</th>\n",
       "      <th>Konum_Altındağ</th>\n",
       "      <th>Konum_Elmadağ</th>\n",
       "      <th>Konum_Etimesgut</th>\n",
       "      <th>Konum_Gölbaşı</th>\n",
       "      <th>Konum_Kahramankazan</th>\n",
       "      <th>Konum_Keçiören</th>\n",
       "      <th>Konum_Mamak</th>\n",
       "      <th>Konum_Polatlı</th>\n",
       "      <th>Konum_Pursaklar</th>\n",
       "      <th>Konum_Sincan</th>\n",
       "      <th>Konum_Yenimahalle</th>\n",
       "      <th>Konum_Çankaya</th>\n",
       "      <th>Konum_Çubuk</th>\n",
       "    </tr>\n",
       "  </thead>\n",
       "  <tbody>\n",
       "    <tr>\n",
       "      <th>0</th>\n",
       "      <td>4</td>\n",
       "      <td>173</td>\n",
       "      <td>0</td>\n",
       "      <td>6</td>\n",
       "      <td>40000</td>\n",
       "      <td>False</td>\n",
       "      <td>False</td>\n",
       "      <td>False</td>\n",
       "      <td>False</td>\n",
       "      <td>False</td>\n",
       "      <td>False</td>\n",
       "      <td>False</td>\n",
       "      <td>False</td>\n",
       "      <td>False</td>\n",
       "      <td>False</td>\n",
       "      <td>False</td>\n",
       "      <td>True</td>\n",
       "      <td>False</td>\n",
       "    </tr>\n",
       "    <tr>\n",
       "      <th>1</th>\n",
       "      <td>4</td>\n",
       "      <td>183</td>\n",
       "      <td>0</td>\n",
       "      <td>21</td>\n",
       "      <td>38000</td>\n",
       "      <td>False</td>\n",
       "      <td>False</td>\n",
       "      <td>False</td>\n",
       "      <td>False</td>\n",
       "      <td>False</td>\n",
       "      <td>False</td>\n",
       "      <td>False</td>\n",
       "      <td>False</td>\n",
       "      <td>False</td>\n",
       "      <td>False</td>\n",
       "      <td>False</td>\n",
       "      <td>True</td>\n",
       "      <td>False</td>\n",
       "    </tr>\n",
       "    <tr>\n",
       "      <th>2</th>\n",
       "      <td>1</td>\n",
       "      <td>45</td>\n",
       "      <td>0</td>\n",
       "      <td>1</td>\n",
       "      <td>10750</td>\n",
       "      <td>False</td>\n",
       "      <td>False</td>\n",
       "      <td>False</td>\n",
       "      <td>True</td>\n",
       "      <td>False</td>\n",
       "      <td>False</td>\n",
       "      <td>False</td>\n",
       "      <td>False</td>\n",
       "      <td>False</td>\n",
       "      <td>False</td>\n",
       "      <td>False</td>\n",
       "      <td>False</td>\n",
       "      <td>False</td>\n",
       "    </tr>\n",
       "    <tr>\n",
       "      <th>3</th>\n",
       "      <td>4</td>\n",
       "      <td>150</td>\n",
       "      <td>16</td>\n",
       "      <td>2</td>\n",
       "      <td>16500</td>\n",
       "      <td>False</td>\n",
       "      <td>False</td>\n",
       "      <td>False</td>\n",
       "      <td>False</td>\n",
       "      <td>False</td>\n",
       "      <td>False</td>\n",
       "      <td>False</td>\n",
       "      <td>False</td>\n",
       "      <td>False</td>\n",
       "      <td>False</td>\n",
       "      <td>True</td>\n",
       "      <td>False</td>\n",
       "      <td>False</td>\n",
       "    </tr>\n",
       "    <tr>\n",
       "      <th>4</th>\n",
       "      <td>3</td>\n",
       "      <td>65</td>\n",
       "      <td>1</td>\n",
       "      <td>1</td>\n",
       "      <td>14500</td>\n",
       "      <td>False</td>\n",
       "      <td>False</td>\n",
       "      <td>False</td>\n",
       "      <td>True</td>\n",
       "      <td>False</td>\n",
       "      <td>False</td>\n",
       "      <td>False</td>\n",
       "      <td>False</td>\n",
       "      <td>False</td>\n",
       "      <td>False</td>\n",
       "      <td>False</td>\n",
       "      <td>False</td>\n",
       "      <td>False</td>\n",
       "    </tr>\n",
       "  </tbody>\n",
       "</table>\n",
       "</div>"
      ],
      "text/plain": [
       "   Oda Sayısı   m²  Bina Yaşı  Bulunduğu Kat  Fiyat  Konum_Altındağ  \\\n",
       "0           4  173          0              6  40000           False   \n",
       "1           4  183          0             21  38000           False   \n",
       "2           1   45          0              1  10750           False   \n",
       "3           4  150         16              2  16500           False   \n",
       "4           3   65          1              1  14500           False   \n",
       "\n",
       "   Konum_Elmadağ  Konum_Etimesgut  Konum_Gölbaşı  Konum_Kahramankazan  \\\n",
       "0          False            False          False                False   \n",
       "1          False            False          False                False   \n",
       "2          False            False           True                False   \n",
       "3          False            False          False                False   \n",
       "4          False            False           True                False   \n",
       "\n",
       "   Konum_Keçiören  Konum_Mamak  Konum_Polatlı  Konum_Pursaklar  Konum_Sincan  \\\n",
       "0           False        False          False            False         False   \n",
       "1           False        False          False            False         False   \n",
       "2           False        False          False            False         False   \n",
       "3           False        False          False            False         False   \n",
       "4           False        False          False            False         False   \n",
       "\n",
       "   Konum_Yenimahalle  Konum_Çankaya  Konum_Çubuk  \n",
       "0              False           True        False  \n",
       "1              False           True        False  \n",
       "2              False          False        False  \n",
       "3               True          False        False  \n",
       "4              False          False        False  "
      ]
     },
     "execution_count": 17,
     "metadata": {},
     "output_type": "execute_result"
    }
   ],
   "source": [
    "data.head()"
   ]
  },
  {
   "cell_type": "code",
   "execution_count": 18,
   "id": "9cb46625",
   "metadata": {},
   "outputs": [],
   "source": [
    "# One-hot encode edilen sütun isimlerini al\n",
    "one_hot_column_names = data.filter(like='Konum').columns\n",
    "\n",
    "# Sütun isimlerini DataFrame'e çevir\n",
    "one_hot_column_names_df = pd.DataFrame(one_hot_column_names, columns=['OneHotColumnNames'])\n",
    "\n",
    "# DataFrame'i CSV dosyasına kaydet\n",
    "one_hot_column_names_df.to_csv('one_hot_column_names.csv', index=False)\n"
   ]
  },
  {
   "cell_type": "code",
   "execution_count": 19,
   "id": "6fee452b",
   "metadata": {},
   "outputs": [
    {
     "data": {
      "text/html": [
       "<div>\n",
       "<style scoped>\n",
       "    .dataframe tbody tr th:only-of-type {\n",
       "        vertical-align: middle;\n",
       "    }\n",
       "\n",
       "    .dataframe tbody tr th {\n",
       "        vertical-align: top;\n",
       "    }\n",
       "\n",
       "    .dataframe thead th {\n",
       "        text-align: right;\n",
       "    }\n",
       "</style>\n",
       "<table border=\"1\" class=\"dataframe\">\n",
       "  <thead>\n",
       "    <tr style=\"text-align: right;\">\n",
       "      <th></th>\n",
       "      <th>Oda Sayısı</th>\n",
       "      <th>m²</th>\n",
       "      <th>Bina Yaşı</th>\n",
       "      <th>Bulunduğu Kat</th>\n",
       "      <th>Fiyat</th>\n",
       "      <th>Konum_Altındağ</th>\n",
       "      <th>Konum_Elmadağ</th>\n",
       "      <th>Konum_Etimesgut</th>\n",
       "      <th>Konum_Gölbaşı</th>\n",
       "      <th>Konum_Kahramankazan</th>\n",
       "      <th>Konum_Keçiören</th>\n",
       "      <th>Konum_Mamak</th>\n",
       "      <th>Konum_Polatlı</th>\n",
       "      <th>Konum_Pursaklar</th>\n",
       "      <th>Konum_Sincan</th>\n",
       "      <th>Konum_Yenimahalle</th>\n",
       "      <th>Konum_Çankaya</th>\n",
       "      <th>Konum_Çubuk</th>\n",
       "    </tr>\n",
       "  </thead>\n",
       "  <tbody>\n",
       "    <tr>\n",
       "      <th>0</th>\n",
       "      <td>4</td>\n",
       "      <td>173</td>\n",
       "      <td>0</td>\n",
       "      <td>6</td>\n",
       "      <td>40000</td>\n",
       "      <td>False</td>\n",
       "      <td>False</td>\n",
       "      <td>False</td>\n",
       "      <td>False</td>\n",
       "      <td>False</td>\n",
       "      <td>False</td>\n",
       "      <td>False</td>\n",
       "      <td>False</td>\n",
       "      <td>False</td>\n",
       "      <td>False</td>\n",
       "      <td>False</td>\n",
       "      <td>True</td>\n",
       "      <td>False</td>\n",
       "    </tr>\n",
       "    <tr>\n",
       "      <th>1</th>\n",
       "      <td>4</td>\n",
       "      <td>183</td>\n",
       "      <td>0</td>\n",
       "      <td>21</td>\n",
       "      <td>38000</td>\n",
       "      <td>False</td>\n",
       "      <td>False</td>\n",
       "      <td>False</td>\n",
       "      <td>False</td>\n",
       "      <td>False</td>\n",
       "      <td>False</td>\n",
       "      <td>False</td>\n",
       "      <td>False</td>\n",
       "      <td>False</td>\n",
       "      <td>False</td>\n",
       "      <td>False</td>\n",
       "      <td>True</td>\n",
       "      <td>False</td>\n",
       "    </tr>\n",
       "    <tr>\n",
       "      <th>2</th>\n",
       "      <td>1</td>\n",
       "      <td>45</td>\n",
       "      <td>0</td>\n",
       "      <td>1</td>\n",
       "      <td>10750</td>\n",
       "      <td>False</td>\n",
       "      <td>False</td>\n",
       "      <td>False</td>\n",
       "      <td>True</td>\n",
       "      <td>False</td>\n",
       "      <td>False</td>\n",
       "      <td>False</td>\n",
       "      <td>False</td>\n",
       "      <td>False</td>\n",
       "      <td>False</td>\n",
       "      <td>False</td>\n",
       "      <td>False</td>\n",
       "      <td>False</td>\n",
       "    </tr>\n",
       "    <tr>\n",
       "      <th>3</th>\n",
       "      <td>4</td>\n",
       "      <td>150</td>\n",
       "      <td>16</td>\n",
       "      <td>2</td>\n",
       "      <td>16500</td>\n",
       "      <td>False</td>\n",
       "      <td>False</td>\n",
       "      <td>False</td>\n",
       "      <td>False</td>\n",
       "      <td>False</td>\n",
       "      <td>False</td>\n",
       "      <td>False</td>\n",
       "      <td>False</td>\n",
       "      <td>False</td>\n",
       "      <td>False</td>\n",
       "      <td>True</td>\n",
       "      <td>False</td>\n",
       "      <td>False</td>\n",
       "    </tr>\n",
       "    <tr>\n",
       "      <th>4</th>\n",
       "      <td>3</td>\n",
       "      <td>65</td>\n",
       "      <td>1</td>\n",
       "      <td>1</td>\n",
       "      <td>14500</td>\n",
       "      <td>False</td>\n",
       "      <td>False</td>\n",
       "      <td>False</td>\n",
       "      <td>True</td>\n",
       "      <td>False</td>\n",
       "      <td>False</td>\n",
       "      <td>False</td>\n",
       "      <td>False</td>\n",
       "      <td>False</td>\n",
       "      <td>False</td>\n",
       "      <td>False</td>\n",
       "      <td>False</td>\n",
       "      <td>False</td>\n",
       "    </tr>\n",
       "  </tbody>\n",
       "</table>\n",
       "</div>"
      ],
      "text/plain": [
       "   Oda Sayısı   m²  Bina Yaşı  Bulunduğu Kat  Fiyat  Konum_Altındağ  \\\n",
       "0           4  173          0              6  40000           False   \n",
       "1           4  183          0             21  38000           False   \n",
       "2           1   45          0              1  10750           False   \n",
       "3           4  150         16              2  16500           False   \n",
       "4           3   65          1              1  14500           False   \n",
       "\n",
       "   Konum_Elmadağ  Konum_Etimesgut  Konum_Gölbaşı  Konum_Kahramankazan  \\\n",
       "0          False            False          False                False   \n",
       "1          False            False          False                False   \n",
       "2          False            False           True                False   \n",
       "3          False            False          False                False   \n",
       "4          False            False           True                False   \n",
       "\n",
       "   Konum_Keçiören  Konum_Mamak  Konum_Polatlı  Konum_Pursaklar  Konum_Sincan  \\\n",
       "0           False        False          False            False         False   \n",
       "1           False        False          False            False         False   \n",
       "2           False        False          False            False         False   \n",
       "3           False        False          False            False         False   \n",
       "4           False        False          False            False         False   \n",
       "\n",
       "   Konum_Yenimahalle  Konum_Çankaya  Konum_Çubuk  \n",
       "0              False           True        False  \n",
       "1              False           True        False  \n",
       "2              False          False        False  \n",
       "3               True          False        False  \n",
       "4              False          False        False  "
      ]
     },
     "execution_count": 19,
     "metadata": {},
     "output_type": "execute_result"
    }
   ],
   "source": [
    "data.head()"
   ]
  },
  {
   "cell_type": "code",
   "execution_count": 20,
   "id": "bf8a386c",
   "metadata": {},
   "outputs": [],
   "source": [
    "# 'data' DataFrame'i ve dosya adı (örneğin 'veri.xlsx') üzerinden uygun bir isim belirleyin\n",
    "data.to_excel('veri.xlsx', index=False)"
   ]
  },
  {
   "cell_type": "code",
   "execution_count": 21,
   "id": "7bf23e17",
   "metadata": {},
   "outputs": [
    {
     "name": "stdout",
     "output_type": "stream",
     "text": [
      "Gradient Boosting Model - Mean Squared Error: 36920801.24492319\n",
      "Gradient Boosting Model - R-squared (R2) Score: 0.3362785642802959\n"
     ]
    }
   ],
   "source": [
    "from sklearn.ensemble import GradientBoostingRegressor\n",
    "from sklearn.model_selection import train_test_split\n",
    "from sklearn.metrics import mean_squared_error, r2_score\n",
    "import pandas as pd\n",
    "\n",
    "data = pd.read_excel(\"veri.xlsx\")\n",
    "# Bağımsız değişkenler (X) ve bağımlı değişken (y) seçimi\n",
    "X = data.drop('Fiyat', axis=1)\n",
    "y = data['Fiyat']\n",
    "\n",
    "# Veriyi eğitim ve test setlerine bölme\n",
    "X_train, X_test, y_train, y_test = train_test_split(X, y, test_size=0.2, random_state=42)\n",
    "\n",
    "# Gradient Boosting modelini oluşturma\n",
    "gb_model = GradientBoostingRegressor(n_estimators=100, learning_rate=0.1, random_state=42)\n",
    "\n",
    "# Modeli eğitme\n",
    "gb_model.fit(X_train, y_train)\n",
    "# Modelin performansını değerlendirme\n",
    "y_pred_gb = gb_model.predict(X_test)\n",
    "\n",
    "mse_gb = mean_squared_error(y_test, y_pred_gb)\n",
    "r2_gb = r2_score(y_test, y_pred_gb)\n",
    "\n",
    "print(f'Gradient Boosting Model - Mean Squared Error: {mse_gb}')\n",
    "print(f'Gradient Boosting Model - R-squared (R2) Score: {r2_gb}')\n"
   ]
  },
  {
   "cell_type": "code",
   "execution_count": 22,
   "id": "b2113bee",
   "metadata": {},
   "outputs": [
    {
     "name": "stdout",
     "output_type": "stream",
     "text": [
      "Mean Squared Error: 101615606.78248411\n",
      "R-squared (R2) Score: -0.8267332818101623\n"
     ]
    }
   ],
   "source": [
    "from sklearn.linear_model import LinearRegression\n",
    "\n",
    "model = LinearRegression()\n",
    "model.fit(X_train, y_train)\n",
    "\n",
    "y_pred = model.predict(X_test)\n",
    "\n",
    "mse = mean_squared_error(y_test, y_pred)\n",
    "r2 = r2_score(y_test, y_pred)\n",
    "\n",
    "print(f'Mean Squared Error: {mse}')\n",
    "print(f'R-squared (R2) Score: {r2}')"
   ]
  },
  {
   "cell_type": "code",
   "execution_count": 23,
   "id": "e5cb2a6f",
   "metadata": {},
   "outputs": [
    {
     "name": "stdout",
     "output_type": "stream",
     "text": [
      "Random Forest Model - Mean Squared Error: 301682727.2115958\n",
      "Random Forest Model - R-squared (R2) Score: -4.423319269493084\n"
     ]
    }
   ],
   "source": [
    "from sklearn.ensemble import RandomForestRegressor\n",
    "\n",
    "rf_model = RandomForestRegressor(n_estimators=100, random_state=42)\n",
    "rf_model.fit(X_train, y_train)\n",
    "y_pred_rf = rf_model.predict(X_test)\n",
    "\n",
    "mse_rf = mean_squared_error(y_test, y_pred_rf)\n",
    "r2_rf = r2_score(y_test, y_pred_rf)\n",
    "\n",
    "print(f'Random Forest Model - Mean Squared Error: {mse_rf}')\n",
    "print(f'Random Forest Model - R-squared (R2) Score: {r2_rf}')"
   ]
  },
  {
   "cell_type": "code",
   "execution_count": 24,
   "id": "e41d5bef",
   "metadata": {},
   "outputs": [
    {
     "name": "stdout",
     "output_type": "stream",
     "text": [
      "SVR Model - Mean Squared Error: 53787084.37543495\n",
      "SVR Model - R-squared (R2) Score: 0.033075132145203856\n"
     ]
    }
   ],
   "source": [
    "from sklearn.svm import SVR\n",
    "from sklearn.preprocessing import StandardScaler\n",
    "\n",
    "# Veriyi standartlaştırma\n",
    "scaler = StandardScaler()\n",
    "X_train_scaled = scaler.fit_transform(X_train)\n",
    "X_test_scaled = scaler.transform(X_test)\n",
    "\n",
    "svr_model = SVR(kernel='linear')\n",
    "svr_model.fit(X_train_scaled, y_train)\n",
    "y_pred_svr = svr_model.predict(X_test_scaled)\n",
    "\n",
    "mse_svr = mean_squared_error(y_test, y_pred_svr)\n",
    "r2_svr = r2_score(y_test, y_pred_svr)\n",
    "\n",
    "print(f'SVR Model - Mean Squared Error: {mse_svr}')\n",
    "print(f'SVR Model - R-squared (R2) Score: {r2_svr}')\n"
   ]
  },
  {
   "cell_type": "code",
   "execution_count": 25,
   "id": "f6b77cd3",
   "metadata": {},
   "outputs": [
    {
     "name": "stdout",
     "output_type": "stream",
     "text": [
      "KNN Model - Mean Squared Error: 561390472.4236454\n",
      "KNN Model - R-squared (R2) Score: -9.092058617162873\n"
     ]
    }
   ],
   "source": [
    "from sklearn.neighbors import KNeighborsRegressor\n",
    "\n",
    "knn_model = KNeighborsRegressor(n_neighbors=5)\n",
    "knn_model.fit(X_train, y_train)\n",
    "y_pred_knn = knn_model.predict(X_test)\n",
    "\n",
    "mse_knn = mean_squared_error(y_test, y_pred_knn)\n",
    "r2_knn = r2_score(y_test, y_pred_knn)\n",
    "\n",
    "print(f'KNN Model - Mean Squared Error: {mse_knn}')\n",
    "print(f'KNN Model - R-squared (R2) Score: {r2_knn}')\n"
   ]
  },
  {
   "cell_type": "code",
   "execution_count": 26,
   "id": "49501a47",
   "metadata": {},
   "outputs": [
    {
     "name": "stdout",
     "output_type": "stream",
     "text": [
      "Lasso Model - Mean Squared Error: 101614352.19267476\n",
      "Lasso Model - R-squared (R2) Score: -0.8267107281785662\n"
     ]
    },
    {
     "name": "stderr",
     "output_type": "stream",
     "text": [
      "C:\\Users\\Ronay\\anaconda3\\Lib\\site-packages\\sklearn\\linear_model\\_coordinate_descent.py:628: ConvergenceWarning: Objective did not converge. You might want to increase the number of iterations, check the scale of the features or consider increasing regularisation. Duality gap: 4.739e+10, tolerance: 1.450e+08\n",
      "  model = cd_fast.enet_coordinate_descent(\n"
     ]
    }
   ],
   "source": [
    "from sklearn.linear_model import Lasso\n",
    "\n",
    "lasso_model = Lasso(alpha=0.01, random_state=42)\n",
    "lasso_model.fit(X_train, y_train)\n",
    "y_pred_lasso = lasso_model.predict(X_test)\n",
    "\n",
    "mse_lasso = mean_squared_error(y_test, y_pred_lasso)\n",
    "r2_lasso = r2_score(y_test, y_pred_lasso)\n",
    "\n",
    "print(f'Lasso Model - Mean Squared Error: {mse_lasso}')\n",
    "print(f'Lasso Model - R-squared (R2) Score: {r2_lasso}')\n"
   ]
  },
  {
   "cell_type": "code",
   "execution_count": 27,
   "id": "ec7f2c64",
   "metadata": {},
   "outputs": [
    {
     "name": "stdout",
     "output_type": "stream",
     "text": [
      "ElasticNet Model - Mean Squared Error: 77993875.33224544\n",
      "ElasticNet Model - R-squared (R2) Score: -0.40208785203380937\n"
     ]
    }
   ],
   "source": [
    "from sklearn.linear_model import ElasticNet\n",
    "\n",
    "elasticnet_model = ElasticNet(alpha=0.01, l1_ratio=0.5, random_state=42)\n",
    "elasticnet_model.fit(X_train, y_train)\n",
    "y_pred_elasticnet = elasticnet_model.predict(X_test)\n",
    "\n",
    "mse_elasticnet = mean_squared_error(y_test, y_pred_elasticnet)\n",
    "r2_elasticnet = r2_score(y_test, y_pred_elasticnet)\n",
    "\n",
    "print(f'ElasticNet Model - Mean Squared Error: {mse_elasticnet}')\n",
    "print(f'ElasticNet Model - R-squared (R2) Score: {r2_elasticnet}')\n"
   ]
  },
  {
   "cell_type": "code",
   "execution_count": 28,
   "id": "1b666738",
   "metadata": {},
   "outputs": [
    {
     "name": "stdout",
     "output_type": "stream",
     "text": [
      "Mean Squared Error: 174959601.8491914\n",
      "R-squared (R2) Score: -2.1452307159303823\n"
     ]
    }
   ],
   "source": [
    "import pandas as pd\n",
    "from sklearn.model_selection import train_test_split\n",
    "from sklearn.ensemble import GradientBoostingRegressor\n",
    "from sklearn.metrics import mean_squared_error, r2_score\n",
    "\n",
    "# Örnek veri setini yükleyelim (gerçek verileri kullanmalısınız)\n",
    "# Örnek olarak, 'Oda Sayısı', 'm²', 'Bina Yaşı', 'Bulunduğu kat', 'Fiyat' sütunları var.\n",
    "# Veri setinizin yapısına göre sütunları ayarlayın.\n",
    "\n",
    "# data = pd.read_csv('konut_veri.csv')  # Örnek: CSV dosyasından veri yükleme\n",
    "# Bu satırı gerçek veri setinizin yüklenmesiyle değiştirin.\n",
    "\n",
    "# Bağımsız değişkenler (X) ve bağımlı değişken (y) seçimi\n",
    "X = data[['Oda Sayısı', 'm²', 'Bina Yaşı', 'Bulunduğu Kat']]\n",
    "y = data['Fiyat']\n",
    "\n",
    "# Veriyi eğitim ve test setlerine bölelim\n",
    "X_train, X_test, y_train, y_test = train_test_split(X, y, test_size=0.2, random_state=42)\n",
    "\n",
    "# Gradient Boosting Regresyon modelini oluşturalım\n",
    "gb_model = GradientBoostingRegressor(n_estimators=100, learning_rate=0.1, random_state=42)\n",
    "\n",
    "# Modeli eğitelim\n",
    "gb_model.fit(X_train, y_train)\n",
    "\n",
    "# Modelin performansını değerlendirelim\n",
    "y_pred = gb_model.predict(X_test)\n",
    "\n",
    "mse = mean_squared_error(y_test, y_pred)\n",
    "r2 = r2_score(y_test, y_pred)\n",
    "\n",
    "print(f'Mean Squared Error: {mse}')\n",
    "print(f'R-squared (R2) Score: {r2}')\n"
   ]
  },
  {
   "cell_type": "code",
   "execution_count": 29,
   "id": "09352b2c",
   "metadata": {},
   "outputs": [
    {
     "data": {
      "text/plain": [
       "['gradient_boosting_regressor.joblib']"
      ]
     },
     "execution_count": 29,
     "metadata": {},
     "output_type": "execute_result"
    }
   ],
   "source": [
    "import joblib\n",
    "\n",
    "joblib.dump(gb_model, 'gradient_boosting_regressor.joblib')"
   ]
  }
 ],
 "metadata": {
  "kernelspec": {
   "display_name": "Python 3 (ipykernel)",
   "language": "python",
   "name": "python3"
  },
  "language_info": {
   "codemirror_mode": {
    "name": "ipython",
    "version": 3
   },
   "file_extension": ".py",
   "mimetype": "text/x-python",
   "name": "python",
   "nbconvert_exporter": "python",
   "pygments_lexer": "ipython3",
   "version": "3.11.5"
  }
 },
 "nbformat": 4,
 "nbformat_minor": 5
}
